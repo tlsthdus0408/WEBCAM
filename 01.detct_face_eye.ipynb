{
 "cells": [
  {
   "cell_type": "code",
   "execution_count": 12,
   "id": "978c0891",
   "metadata": {},
   "outputs": [],
   "source": [
    "import numpy as np\n",
    "import cv2\n",
    "import matplotlib.pyplot as plt"
   ]
  },
  {
   "cell_type": "code",
   "execution_count": 13,
   "id": "50dce813",
   "metadata": {},
   "outputs": [],
   "source": [
    "font=cv2.FONT_HERSHEY_COMPLEX\n",
    "fontSacle=2\n",
    "font_Colr=(255,0,255)\n",
    "lineType=2"
   ]
  },
  {
   "cell_type": "code",
   "execution_count": 11,
   "id": "5395412e",
   "metadata": {},
   "outputs": [
    {
     "ename": "SyntaxError",
     "evalue": "invalid non-printable character U+00A0 (3471059753.py, line 13)",
     "output_type": "error",
     "traceback": [
      "\u001b[1;36m  Input \u001b[1;32mIn [11]\u001b[1;36m\u001b[0m\n\u001b[1;33m    if eye_detect:\u001b[0m\n\u001b[1;37m    ^\u001b[0m\n\u001b[1;31mSyntaxError\u001b[0m\u001b[1;31m:\u001b[0m invalid non-printable character U+00A0\n"
     ]
    }
   ],
   "source": [
    "def faceDetct():\n",
    "    eye_datect=False\n",
    "    face_cascade=cv2.CascadeClassifier('./haarcascade_frontface.xml')\n",
    "    eye_cascade=cv2.CascadeClassifier('./haarcascade_eye.xml')\n",
    "    try:\n",
    "        cap=cv2.VideoCapture(0)\n",
    "    except:\n",
    "        print(\"Camera Loading Failed !!\")\n",
    "        return \n",
    "    while(True):\n",
    "        ret,frame=cap.read()\n",
    "     \n",
    "        if eye_detect:\n",
    "            info = \"Eye Detention ON\"\n",
    "        else:\n",
    "            info = \"Eye Detection OFF\"\n",
    " \n",
    "        gray = cv2.cvtColor(frame, cv2.COLOR_BGR2GRAY)\n",
    "        faces = face_cascade.detectMultiScale(gray,1.3, 5)\n",
    " \n",
    "        faces = face_cascade.detectMultiScale(gray, 1.3, 5)\n",
    " \n",
    "        #카메라 영상 왼쪽위에 위에 셋팅된 info 의 내용 출력\n",
    "        cv2.putText(frame, info, (5,15), font, 0.5, (255,0, 255),1)\n",
    " \n",
    "        for(x,y, w,h) in faces:\n",
    "            cv2.rectangle(frame, (x,y), (x+w, y+h), (255,0,0), 2)  #사각형 범위\n",
    "            cv2.putText(frame, \"Detected Face\", (x-5, y-5), font, 0.5, (255,255,0),2)  #얼굴찾았다는 메시지\n",
    "            if eye_detect:  #눈찾기\n",
    "                roi_gray = gray[y:y+h, x:x+w]\n",
    "                roi_color = frame[y:y+h, x:x+w]\n",
    "                eyes = eye_cascade.detectMultiScale(roi_gray)\n",
    "                for (ex,ey,ew,eh) in eyes:\n",
    "                    cv2.rectangle(roi_color, (ex, ey), (ex+ew, ey+eh), (0,255,0), 2)\n",
    " \n",
    "        cv2.imshow(\"frame\", frame)\n",
    "        k=cv2.waitKey(30)\n",
    " \n",
    "        #실행 중 키보드 i 를 누르면 눈찾기를 on, off한다.\n",
    "        if k == ord('i'):\n",
    "            eye_detect = not eye_detect\n",
    "        if k == 27:\n",
    "            break\n",
    "    cam.release()\n",
    "    cv2.destroyAllWindows()"
   ]
  },
  {
   "cell_type": "code",
   "execution_count": 6,
   "id": "a3e82e22",
   "metadata": {},
   "outputs": [
    {
     "ename": "NameError",
     "evalue": "name 'faceDetct' is not defined",
     "output_type": "error",
     "traceback": [
      "\u001b[1;31m---------------------------------------------------------------------------\u001b[0m",
      "\u001b[1;31mNameError\u001b[0m                                 Traceback (most recent call last)",
      "Input \u001b[1;32mIn [6]\u001b[0m, in \u001b[0;36m<cell line: 1>\u001b[1;34m()\u001b[0m\n\u001b[1;32m----> 1\u001b[0m \u001b[43mfaceDetct\u001b[49m()\n",
      "\u001b[1;31mNameError\u001b[0m: name 'faceDetct' is not defined"
     ]
    }
   ],
   "source": [
    "faceDetct()"
   ]
  },
  {
   "cell_type": "code",
   "execution_count": 10,
   "id": "60410b1f",
   "metadata": {},
   "outputs": [
    {
     "ename": "SyntaxError",
     "evalue": "invalid non-printable character U+00A0 (378199518.py, line 2)",
     "output_type": "error",
     "traceback": [
      "\u001b[1;36m  Input \u001b[1;32mIn [10]\u001b[1;36m\u001b[0m\n\u001b[1;33m    \u001b[0m\n\u001b[1;37m    ^\u001b[0m\n\u001b[1;31mSyntaxError\u001b[0m\u001b[1;31m:\u001b[0m invalid non-printable character U+00A0\n"
     ]
    }
   ],
   "source": [
    "# -*- coding: utf-8 -*-  # 한글 주석쓸려면 적기\n",
    " \n",
    "import cv2\n",
    " \n",
    "font = cv2.FONT_ITALIC\n",
    " \n",
    "def faceDetect():\n",
    "    eye_detect = False\n",
    "    face_cascade = cv2.CascadeClassifier(\"./haarcascade_frontalface_default.xml\")  # 얼굴찾기 haar 파일\n",
    "    eye_cascade = cv2.CascadeClassifier(\"./haarcascade_eye.xml\") # 눈찾기 haar 파일\n",
    " \n",
    "    try:\n",
    "        cam = cv2.VideoCapture(0)\n",
    "    except:\n",
    "        print(\"camera loading error\")\n",
    "        return\n",
    " \n",
    "    while True:\n",
    "        ret, frame = cam.read()\n",
    "        if not ret:\n",
    "            break\n",
    " \n",
    "        if eye_detect:\n",
    "            info = \"Eye Detention ON\"\n",
    "        else:\n",
    "            info = \"Eye Detection OFF\"\n",
    " \n",
    "        gray = cv2.cvtColor(frame, cv2.COLOR_BGR2GRAY)\n",
    "        faces = face_cascade.detectMultiScale(gray,1.3, 5)\n",
    " \n",
    "        faces = face_cascade.detectMultiScale(gray, 1.3, 5)\n",
    " \n",
    "        #카메라 영상 왼쪽위에 위에 셋팅된 info 의 내용 출력\n",
    "        cv2.putText(frame, info, (5,15), font, 0.5, (255,0, 255),1)\n",
    " \n",
    "        for(x,y, w,h) in faces:\n",
    "            cv2.rectangle(frame, (x,y), (x+w, y+h), (255,0,0), 2)  #사각형 범위\n",
    "            cv2.putText(frame, \"Detected Face\", (x-5, y-5), font, 0.5, (255,255,0),2)  #얼굴찾았다는 메시지\n",
    "            if eye_detect:  #눈찾기\n",
    "                roi_gray = gray[y:y+h, x:x+w]\n",
    "                roi_color = frame[y:y+h, x:x+w]\n",
    "                eyes = eye_cascade.detectMultiScale(roi_gray)\n",
    "                for (ex,ey,ew,eh) in eyes:\n",
    "                    cv2.rectangle(roi_color, (ex, ey), (ex+ew, ey+eh), (0,255,0), 2)\n",
    " \n",
    "        cv2.imshow(\"frame\", frame)\n",
    "        k=cv2.waitKey(30)\n",
    " \n",
    "        #실행 중 키보드 i 를 누르면 눈찾기를 on, off한다.\n",
    "        if k == ord('i'):\n",
    "            eye_detect = not eye_detect\n",
    "        if k == 27:\n",
    "            break\n",
    "    cam.release()\n",
    "    cv2.destroyAllWindows()"
   ]
  },
  {
   "cell_type": "code",
   "execution_count": 15,
   "id": "f54d5a2a",
   "metadata": {},
   "outputs": [],
   "source": [
    "import cv2\n",
    " \n",
    "font = cv2.FONT_ITALIC\n",
    " \n",
    "def faceDetect():\n",
    "    eye_detect = False\n",
    "    face_cascade = cv2.CascadeClassifier(\"./haarcascade_frontalface_default.xml\")  # 얼굴찾기 haar 파일\n",
    "    eye_cascade = cv2.CascadeClassifier(\"./haarcascade_eye.xml\") # 눈찾기 haar 파일\n",
    " \n",
    "    try:\n",
    "        cam = cv2.VideoCapture(0)\n",
    "    except:\n",
    "        print(\"camera loading error\")\n",
    "        return\n",
    " \n",
    "    while True:\n",
    "        ret, frame = cam.read()\n",
    "        if not ret:\n",
    "            break\n",
    " \n",
    "        if eye_detect:\n",
    "            info = \"Eye Detention ON\"\n",
    "        else:\n",
    "            info = \"Eye Detection OFF\"\n",
    " \n",
    "        gray = cv2.cvtColor(frame, cv2.COLOR_BGR2GRAY)\n",
    "        faces = face_cascade.detectMultiScale(gray,1.3, 5)\n",
    "\n",
    "        #카메라 영상 왼쪽위에 위에 셋팅된 info 의 내용 출력\n",
    "        cv2.putText(frame, info, (5,15), font, 0.5, (255,0, 255),1)\n",
    " \n",
    "        for(x,y, w,h) in faces:\n",
    "            cv2.rectangle(frame, (x,y), (x+w, y+h), (255,0,0), 2)  #사각형 범위\n",
    "            cv2.putText(frame, \"Detected Face\", (x-5, y-5), font, 0.5, (255,255,0),2)  #얼굴찾았다는 메시지\n",
    "            if eye_detect:  #눈찾기\n",
    "                roi_gray = gray[y:y+h, x:x+w]\n",
    "                roi_color = frame[y:y+h, x:x+w]\n",
    "                eyes = eye_cascade.detectMultiScale(roi_gray)\n",
    "                for (ex,ey,ew,eh) in eyes:\n",
    "                    cv2.rectangle(roi_color, (ex, ey), (ex+ew, ey+eh), (0,255,0), 2)\n",
    " \n",
    "        cv2.imshow(\"frame\", frame)\n",
    "        k=cv2.waitKey(30)\n",
    " \n",
    "        #실행 중 키보드 i 를 누르면 눈찾기를 on, off한다.\n",
    "        if k == ord('i'):\n",
    "            eye_detect = not eye_detect\n",
    "        if k == 27:\n",
    "            break\n",
    "    cam.release()\n",
    "    cv2.destroyAllWindows()\n"
   ]
  },
  {
   "cell_type": "code",
   "execution_count": 14,
   "id": "8ec571b5",
   "metadata": {},
   "outputs": [
    {
     "ename": "error",
     "evalue": "OpenCV(4.6.0) D:\\a\\opencv-python\\opencv-python\\opencv\\modules\\objdetect\\src\\cascadedetect.cpp:1689: error: (-215:Assertion failed) !empty() in function 'cv::CascadeClassifier::detectMultiScale'\n",
     "output_type": "error",
     "traceback": [
      "\u001b[1;31m---------------------------------------------------------------------------\u001b[0m",
      "\u001b[1;31merror\u001b[0m                                     Traceback (most recent call last)",
      "Input \u001b[1;32mIn [14]\u001b[0m, in \u001b[0;36m<cell line: 1>\u001b[1;34m()\u001b[0m\n\u001b[1;32m----> 1\u001b[0m \u001b[43mfaceDetect\u001b[49m\u001b[43m(\u001b[49m\u001b[43m)\u001b[49m\n",
      "Input \u001b[1;32mIn [13]\u001b[0m, in \u001b[0;36mfaceDetect\u001b[1;34m()\u001b[0m\n\u001b[0;32m     24\u001b[0m     info \u001b[38;5;241m=\u001b[39m \u001b[38;5;124m\"\u001b[39m\u001b[38;5;124mEye Detection OFF\u001b[39m\u001b[38;5;124m\"\u001b[39m\n\u001b[0;32m     26\u001b[0m gray \u001b[38;5;241m=\u001b[39m cv2\u001b[38;5;241m.\u001b[39mcvtColor(frame, cv2\u001b[38;5;241m.\u001b[39mCOLOR_BGR2GRAY)\n\u001b[1;32m---> 27\u001b[0m faces \u001b[38;5;241m=\u001b[39m \u001b[43mface_cascade\u001b[49m\u001b[38;5;241;43m.\u001b[39;49m\u001b[43mdetectMultiScale\u001b[49m\u001b[43m(\u001b[49m\u001b[43mgray\u001b[49m\u001b[43m,\u001b[49m\u001b[38;5;241;43m1.3\u001b[39;49m\u001b[43m,\u001b[49m\u001b[43m \u001b[49m\u001b[38;5;241;43m5\u001b[39;49m\u001b[43m)\u001b[49m\n\u001b[0;32m     29\u001b[0m faces \u001b[38;5;241m=\u001b[39m face_cascade\u001b[38;5;241m.\u001b[39mdetectMultiScale(gray, \u001b[38;5;241m1.3\u001b[39m, \u001b[38;5;241m5\u001b[39m)\n\u001b[0;32m     31\u001b[0m \u001b[38;5;66;03m#카메라 영상 왼쪽위에 위에 셋팅된 info 의 내용 출력\u001b[39;00m\n",
      "\u001b[1;31merror\u001b[0m: OpenCV(4.6.0) D:\\a\\opencv-python\\opencv-python\\opencv\\modules\\objdetect\\src\\cascadedetect.cpp:1689: error: (-215:Assertion failed) !empty() in function 'cv::CascadeClassifier::detectMultiScale'\n"
     ]
    }
   ],
   "source": [
    "faceDetect()"
   ]
  }
 ],
 "metadata": {
  "kernelspec": {
   "display_name": "Python 3 (ipykernel)",
   "language": "python",
   "name": "python3"
  },
  "language_info": {
   "codemirror_mode": {
    "name": "ipython",
    "version": 3
   },
   "file_extension": ".py",
   "mimetype": "text/x-python",
   "name": "python",
   "nbconvert_exporter": "python",
   "pygments_lexer": "ipython3",
   "version": "3.9.12"
  },
  "toc": {
   "base_numbering": 1,
   "nav_menu": {},
   "number_sections": true,
   "sideBar": true,
   "skip_h1_title": false,
   "title_cell": "Table of Contents",
   "title_sidebar": "Contents",
   "toc_cell": false,
   "toc_position": {},
   "toc_section_display": true,
   "toc_window_display": false
  },
  "varInspector": {
   "cols": {
    "lenName": 16,
    "lenType": 16,
    "lenVar": 40
   },
   "kernels_config": {
    "python": {
     "delete_cmd_postfix": "",
     "delete_cmd_prefix": "del ",
     "library": "var_list.py",
     "varRefreshCmd": "print(var_dic_list())"
    },
    "r": {
     "delete_cmd_postfix": ") ",
     "delete_cmd_prefix": "rm(",
     "library": "var_list.r",
     "varRefreshCmd": "cat(var_dic_list()) "
    }
   },
   "types_to_exclude": [
    "module",
    "function",
    "builtin_function_or_method",
    "instance",
    "_Feature"
   ],
   "window_display": false
  }
 },
 "nbformat": 4,
 "nbformat_minor": 5
}
